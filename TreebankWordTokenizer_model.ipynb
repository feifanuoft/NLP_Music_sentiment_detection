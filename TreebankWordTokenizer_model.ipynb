{
 "cells": [
  {
   "cell_type": "code",
   "execution_count": 1,
   "metadata": {},
   "outputs": [],
   "source": [
    "from nltk import sent_tokenize, pos_tag\n",
    "from nltk.tokenize import TreebankWordTokenizer\n",
    "from nltk.stem import WordNetLemmatizer\n",
    "from nltk.corpus import wordnet as wn\n",
    "from nltk.corpus import sentiwordnet as swn\n",
    "from nltk.sentiment.util import mark_negation\n",
    "from string import punctuation\n",
    "from IPython.display import display\n",
    "import pandas as pd\n",
    "import numpy as np\n",
    "import seaborn as sns\n",
    "import matplotlib.pyplot as plt\n",
    "pd.set_option('display.max_columns', None)\n",
    "pd.set_option('display.max_colwidth', None)"
   ]
  },
  {
   "cell_type": "markdown",
   "metadata": {},
   "source": [
    "Convert between the PennTreebank tags to simple Wordnet tags\n"
   ]
  },
  {
   "cell_type": "code",
   "execution_count": 2,
   "metadata": {},
   "outputs": [],
   "source": [
    "def penn_to_wn(tag):\n",
    " \n",
    "    if tag.startswith('J'):\n",
    "        return wn.ADJ\n",
    "    elif tag.startswith('N'):\n",
    "        return wn.NOUN\n",
    "    elif tag.startswith('R'):\n",
    "        return wn.ADV\n",
    "    elif tag.startswith('V'):\n",
    "        return wn.VERB\n",
    "    return None"
   ]
  },
  {
   "cell_type": "code",
   "execution_count": 3,
   "metadata": {},
   "outputs": [],
   "source": [
    "def get_sentiment_score(text):\n",

    "    total_score = 0\n",
    "    #print(text)\n",
    "    raw_sentences = sent_tokenize(text)\n",
    "    #print(raw_sentences)\n",
    "    \n",
    "    for sentence in raw_sentences:\n",
    "\n",
    "        sent_score = 0     \n",
    "        sentence = str(sentence)\n",
    "        #print(sentence)\n",
    "        sentence = sentence.replace(\"<br />\",\" \").translate(str.maketrans('','',punctuation)).lower()\n",
    "        tokens = TreebankWordTokenizer().tokenize(text)\n",
    "        tags = pos_tag(tokens)\n",
    "        for word, tag in tags:\n",
    "            wn_tag = penn_to_wn(tag)\n",
    "            if not wn_tag:\n",
    "                continue\n",
    "            lemma = WordNetLemmatizer().lemmatize(word, pos=wn_tag)\n",
    "            if not lemma:\n",
    "                continue\n",
    "            synsets = wn.synsets(lemma, pos=wn_tag)\n",
    "            if not synsets:\n",
    "                continue\n",
    "            synset = synsets[0]\n",
    "            swn_synset = swn.senti_synset(synset.name())\n",
    "            sent_score += swn_synset.pos_score() - swn_synset.neg_score()\n",
    "\n",
    "        total_score = total_score + (sent_score / len(tokens))\n",
    "\n",
    "    \n",
    "    return (total_score / len(raw_sentences)) * 100"
   ]
  },
  {
   "cell_type": "code",
   "execution_count": 8,
   "metadata": {},
   "outputs": [
    {
     "data": {
      "text/plain": [
       "(5100, 12)"
      ]
     },
     "execution_count": 8,
     "metadata": {},
     "output_type": "execute_result"
    }
   ],
   "source": [
    "df =  pd.read_csv(\"data/small_corpus.csv\")\n",
    "df.shape"
   ]
  },
  {
   "cell_type": "code",
   "execution_count": 9,
   "metadata": {},
   "outputs": [
    {
     "data": {
      "text/html": [
       "<div>\n",
       "<style scoped>\n",
       "    .dataframe tbody tr th:only-of-type {\n",
       "        vertical-align: middle;\n",
       "    }\n",
       "\n",
       "    .dataframe tbody tr th {\n",
       "        vertical-align: top;\n",
       "    }\n",
       "\n",
       "    .dataframe thead th {\n",
       "        text-align: right;\n",
       "    }\n",
       "</style>\n",
       "<table border=\"1\" class=\"dataframe\">\n",
       "  <thead>\n",
       "    <tr style=\"text-align: right;\">\n",
       "      <th></th>\n",
       "      <th>overall</th>\n",
       "      <th>vote</th>\n",
       "      <th>verified</th>\n",
       "      <th>reviewTime</th>\n",
       "      <th>reviewerID</th>\n",
       "      <th>asin</th>\n",
       "      <th>style</th>\n",
       "      <th>reviewerName</th>\n",
       "      <th>reviewText</th>\n",
       "      <th>summary</th>\n",
       "      <th>unixReviewTime</th>\n",
       "      <th>image</th>\n",
       "    </tr>\n",
       "  </thead>\n",
       "  <tbody>\n",
       "    <tr>\n",
       "      <th>0</th>\n",
       "      <td>1</td>\n",
       "      <td>NaN</td>\n",
       "      <td>True</td>\n",
       "      <td>11 22, 2015</td>\n",
       "      <td>A37TWNNTNCY8JV</td>\n",
       "      <td>B0083EYC4A</td>\n",
       "      <td>{'Format:': ' MP3 Music'}</td>\n",
       "      <td>rose sisters</td>\n",
       "      <td>ok</td>\n",
       "      <td>One Star</td>\n",
       "      <td>1448150400</td>\n",
       "      <td>NaN</td>\n",
       "    </tr>\n",
       "    <tr>\n",
       "      <th>1</th>\n",
       "      <td>1</td>\n",
       "      <td>NaN</td>\n",
       "      <td>True</td>\n",
       "      <td>01 9, 2015</td>\n",
       "      <td>AZAW12EWF3O6G</td>\n",
       "      <td>B001E9ULJ6</td>\n",
       "      <td>{'Format:': ' MP3 Music'}</td>\n",
       "      <td>RVMY</td>\n",
       "      <td>Not worth the price: this digital download was free!</td>\n",
       "      <td>One Star</td>\n",
       "      <td>1420761600</td>\n",
       "      <td>NaN</td>\n",
       "    </tr>\n",
       "    <tr>\n",
       "      <th>2</th>\n",
       "      <td>1</td>\n",
       "      <td>NaN</td>\n",
       "      <td>True</td>\n",
       "      <td>12 14, 2014</td>\n",
       "      <td>A23GI9VA8A2KEK</td>\n",
       "      <td>B004NYNGW8</td>\n",
       "      <td>{'Format:': ' MP3 Music'}</td>\n",
       "      <td>teresa</td>\n",
       "      <td>i didn't purchase this</td>\n",
       "      <td>One Star</td>\n",
       "      <td>1418515200</td>\n",
       "      <td>NaN</td>\n",
       "    </tr>\n",
       "    <tr>\n",
       "      <th>3</th>\n",
       "      <td>1</td>\n",
       "      <td>NaN</td>\n",
       "      <td>True</td>\n",
       "      <td>04 1, 2015</td>\n",
       "      <td>A2SC8X1S8P8CFS</td>\n",
       "      <td>B001O03NRM</td>\n",
       "      <td>{'Format:': ' MP3 Music'}</td>\n",
       "      <td>VERY BLESSED</td>\n",
       "      <td>Not good</td>\n",
       "      <td>One Star</td>\n",
       "      <td>1427846400</td>\n",
       "      <td>NaN</td>\n",
       "    </tr>\n",
       "    <tr>\n",
       "      <th>4</th>\n",
       "      <td>1</td>\n",
       "      <td>NaN</td>\n",
       "      <td>True</td>\n",
       "      <td>03 28, 2017</td>\n",
       "      <td>AUH0BZW12JM7W</td>\n",
       "      <td>B00SYTMDS6</td>\n",
       "      <td>{'Format:': ' MP3 Music'}</td>\n",
       "      <td>A. Goebel</td>\n",
       "      <td>It old and got sick of it fast</td>\n",
       "      <td>Got old</td>\n",
       "      <td>1490659200</td>\n",
       "      <td>NaN</td>\n",
       "    </tr>\n",
       "  </tbody>\n",
       "</table>\n",
       "</div>"
      ],
      "text/plain": [
       "   overall  vote  verified   reviewTime      reviewerID        asin  \\\n",
       "0        1   NaN      True  11 22, 2015  A37TWNNTNCY8JV  B0083EYC4A   \n",
       "1        1   NaN      True   01 9, 2015   AZAW12EWF3O6G  B001E9ULJ6   \n",
       "2        1   NaN      True  12 14, 2014  A23GI9VA8A2KEK  B004NYNGW8   \n",
       "3        1   NaN      True   04 1, 2015  A2SC8X1S8P8CFS  B001O03NRM   \n",
       "4        1   NaN      True  03 28, 2017   AUH0BZW12JM7W  B00SYTMDS6   \n",
       "\n",
       "                       style  reviewerName  \\\n",
       "0  {'Format:': ' MP3 Music'}  rose sisters   \n",
       "1  {'Format:': ' MP3 Music'}          RVMY   \n",
       "2  {'Format:': ' MP3 Music'}        teresa   \n",
       "3  {'Format:': ' MP3 Music'}  VERY BLESSED   \n",
       "4  {'Format:': ' MP3 Music'}     A. Goebel   \n",
       "\n",
       "                                             reviewText   summary  \\\n",
       "0                                                    ok  One Star   \n",
       "1  Not worth the price: this digital download was free!  One Star   \n",
       "2                                i didn't purchase this  One Star   \n",
       "3                                              Not good  One Star   \n",
       "4                        It old and got sick of it fast   Got old   \n",
       "\n",
       "   unixReviewTime image  \n",
       "0      1448150400   NaN  \n",
       "1      1420761600   NaN  \n",
       "2      1418515200   NaN  \n",
       "3      1427846400   NaN  \n",
       "4      1490659200   NaN  "
      ]
     },
     "execution_count": 9,
     "metadata": {},
     "output_type": "execute_result"
    }
   ],
   "source": [
    "df.head()"
   ]
  },
  {
   "cell_type": "code",
   "execution_count": 10,
   "metadata": {},
   "outputs": [],
   "source": [
    "df.dropna(subset=['reviewText'], inplace=True)"
   ]
  },
  {
   "cell_type": "code",
   "execution_count": 11,
   "metadata": {},
   "outputs": [],
   "source": [
    "df['swn_score'] = df['reviewText'].apply(lambda text : get_sentiment_score(text))"
   ]
  },
  {
   "cell_type": "code",
   "execution_count": 13,
   "metadata": {},
   "outputs": [
    {
     "data": {
      "text/html": [
       "<div>\n",
       "<style scoped>\n",
       "    .dataframe tbody tr th:only-of-type {\n",
       "        vertical-align: middle;\n",
       "    }\n",
       "\n",
       "    .dataframe tbody tr th {\n",
       "        vertical-align: top;\n",
       "    }\n",
       "\n",
       "    .dataframe thead th {\n",
       "        text-align: right;\n",
       "    }\n",
       "</style>\n",
       "<table border=\"1\" class=\"dataframe\">\n",
       "  <thead>\n",
       "    <tr style=\"text-align: right;\">\n",
       "      <th></th>\n",
       "      <th>reviewText</th>\n",
       "      <th>swn_score</th>\n",
       "    </tr>\n",
       "  </thead>\n",
       "  <tbody>\n",
       "    <tr>\n",
       "      <th>4405</th>\n",
       "      <td>This song brought back many good memories of my adolescent years.</td>\n",
       "      <td>6.25000</td>\n",
       "    </tr>\n",
       "    <tr>\n",
       "      <th>4078</th>\n",
       "      <td>Great music!</td>\n",
       "      <td>0.00000</td>\n",
       "    </tr>\n",
       "    <tr>\n",
       "      <th>1727</th>\n",
       "      <td>This is an amazing song with amazing originality and wonderful, upbeat music. However, I chose the 'explicit' version in error, and found it to have bad language. I would prefer the version that omits bad language, as the content of the 'explicit' destroys the song, in my opinion. I feel the same way about movies that repeat bad language over and over. It totally destroys the whole point of the movie. That's my story and I'm sticking to it.</td>\n",
       "      <td>0.00000</td>\n",
       "    </tr>\n",
       "    <tr>\n",
       "      <th>561</th>\n",
       "      <td>Seemed like the best collection of Beatles songs, but can't give it anything but 1 star because of the packaging.  There are 2 discs in cardboard/paper sleeves.  I assume to keep them in, there is some kind of sticky stuff ON THE CD!!  One, I was able to get it off because it was only on the edge.  But the other, the sticky stuff runs across the CD.  It is not usable.</td>\n",
       "      <td>-0.15625</td>\n",
       "    </tr>\n",
       "    <tr>\n",
       "      <th>4170</th>\n",
       "      <td>This is a great album to listen to while traveling, at work, sitting around with friends or just working around my home.</td>\n",
       "      <td>1.00000</td>\n",
       "    </tr>\n",
       "  </tbody>\n",
       "</table>\n",
       "</div>"
      ],
      "text/plain": [
       "                                                                                                                                                                                                                                                                                                                                                                                                                                                        reviewText  \\\n",
       "4405                                                                                                                                                                                                                                                                                                                                                                                             This song brought back many good memories of my adolescent years.   \n",
       "4078                                                                                                                                                                                                                                                                                                                                                                                                                                                  Great music!   \n",
       "1727  This is an amazing song with amazing originality and wonderful, upbeat music. However, I chose the 'explicit' version in error, and found it to have bad language. I would prefer the version that omits bad language, as the content of the 'explicit' destroys the song, in my opinion. I feel the same way about movies that repeat bad language over and over. It totally destroys the whole point of the movie. That's my story and I'm sticking to it.   \n",
       "561                                                                             Seemed like the best collection of Beatles songs, but can't give it anything but 1 star because of the packaging.  There are 2 discs in cardboard/paper sleeves.  I assume to keep them in, there is some kind of sticky stuff ON THE CD!!  One, I was able to get it off because it was only on the edge.  But the other, the sticky stuff runs across the CD.  It is not usable.   \n",
       "4170                                                                                                                                                                                                                                                                                                                                      This is a great album to listen to while traveling, at work, sitting around with friends or just working around my home.   \n",
       "\n",
       "      swn_score  \n",
       "4405    6.25000  \n",
       "4078    0.00000  \n",
       "1727    0.00000  \n",
       "561    -0.15625  \n",
       "4170    1.00000  "
      ]
     },
     "execution_count": 13,
     "metadata": {},
     "output_type": "execute_result"
    }
   ],
   "source": [
    "df[['reviewText','swn_score']].sample(5)"
   ]
  },
  {
   "cell_type": "code",
   "execution_count": 15,
   "metadata": {},
   "outputs": [
    {
     "data": {
      "image/png": "[encoded data removed]",
      "text/plain": [
       "<Figure size 1440x720 with 1 Axes>"
      ]
     },
     "metadata": {
      "needs_background": "light"
     },
     "output_type": "display_data"
    }
   ],
   "source": [
    "fig , ax = plt.subplots(nrows=1, ncols=1, figsize=(20,10))\n",
    "sns.histplot(x='swn_score', data=df.query(\"swn_score < 8 and swn_score > -8\"), ax=ax)\n",
    "plt.show()"
   ]
  },
  {
   "cell_type": "markdown",
   "metadata": {},
   "source": [
    "set the score of sentiments"
   ]
  },
  {
   "cell_type": "code",
   "execution_count": 16,
   "metadata": {},
   "outputs": [],
   "source": [
    "df['swn_sentiment'] = df['swn_score'].apply(lambda x: \"positive\" if x>1 else (\"negative\" if x<0.5 else \"neutral\"))"
   ]
  },
  {
   "cell_type": "code",
   "execution_count": 18,
   "metadata": {},
   "outputs": [
    {
     "data": {
      "text/plain": [
       "positive    2709\n",
       "negative    2086\n",
       "neutral      304\n",
       "Name: swn_sentiment, dtype: int64"
      ]
     },
     "execution_count": 18,
     "metadata": {},
     "output_type": "execute_result"
    }
   ],
   "source": [
    "df['swn_sentiment'].value_counts(dropna=False)"
   ]
  },
  {
   "cell_type": "markdown",
   "metadata": {},
   "source": [
    "Distribution"
   ]
  },
  {
   "cell_type": "code",
   "execution_count": 19,
   "metadata": {},
   "outputs": [
    {
     "data": {
      "text/plain": [
       "<AxesSubplot:xlabel='overall', ylabel='count'>"
      ]
     },
     "execution_count": 19,
     "metadata": {},
     "output_type": "execute_result"
    },
    {
     "data": {
      "image/png": "[encoded data removed]",
      "text/plain": [
       "<Figure size 432x288 with 1 Axes>"
      ]
     },
     "metadata": {
      "needs_background": "light"
     },
     "output_type": "display_data"
    }
   ],
   "source": [
    "sns.countplot(x='overall', hue='swn_sentiment' ,data = df)"
   ]
  },
  {
   "cell_type": "code",
   "execution_count": 20,
   "metadata": {},
   "outputs": [
    {
     "data": {
      "text/plain": [
       "<AxesSubplot:xlabel='swn_sentiment', ylabel='overall'>"
      ]
     },
     "execution_count": 20,
     "metadata": {},
     "output_type": "execute_result"
    },
    {
     "data": {
      "image/png": "[encoded data removed]",
      "text/plain": [
       "<Figure size 432x288 with 1 Axes>"
      ]
     },
     "metadata": {
      "needs_background": "light"
     },
     "output_type": "display_data"
    }
   ],
   "source": [
    "sns.boxenplot(x='swn_sentiment', y='overall', data = df)"
   ]
  },
  {
   "cell_type": "code",
   "execution_count": 22,
   "metadata": {},
   "outputs": [],
   "source": [
    "df['true_sentiment'] = \\\n",
    "    df['overall'].apply(lambda x: \"positive\" if x>=4 else (\"neutral\" if x==3 else \"negative\"))"
   ]
  },
  {
   "cell_type": "code",
   "execution_count": 23,
   "metadata": {},
   "outputs": [],
   "source": [
    "y_swn_pred, y_true = df['swn_sentiment'].tolist(), df['true_sentiment'].tolist()"
   ]
  },
  {
   "cell_type": "code",
   "execution_count": 24,
   "metadata": {},
   "outputs": [],
   "source": [
    "y_swn_pred, y_true = df['swn_sentiment'].tolist(), df['true_sentiment'].tolist()"
   ]
  },
  {
   "cell_type": "code",
   "execution_count": 25,
   "metadata": {},
   "outputs": [],
   "source": [
    "from sklearn.metrics import confusion_matrix\n",
    "cm = confusion_matrix(y_true, y_swn_pred)"
   ]
  },
  {
   "cell_type": "code",
   "execution_count": 26,
   "metadata": {},
   "outputs": [
    {
     "data": {
      "image/png": "[encoded data removed]",
      "text/plain": [
       "<Figure size 576x432 with 2 Axes>"
      ]
     },
     "metadata": {
      "needs_background": "light"
     },
     "output_type": "display_data"
    }
   ],
   "source": [
    "fig , ax = plt.subplots(nrows=1, ncols=1, figsize=(8,6))\n",
    "sns.heatmap(cm, cmap='viridis_r', annot=True, fmt='d', square=True, ax=ax)\n",
    "ax.set_xlabel('Predicted')\n",
    "ax.set_ylabel('True');"
   ]
  },
  {
   "cell_type": "code",
   "execution_count": 27,
   "metadata": {},
   "outputs": [],
   "source": [
    "tp, tn, fp, fn = 1151, 38+389+107+1530, 159+790, 273+662"
   ]
  },
  {
   "cell_type": "code",
   "execution_count": 28,
   "metadata": {},
   "outputs": [],
   "source": [
    "recall = tp / (tp+fn)\n",
    "specifity = tn / (tn+fp)\n",
    "precision = tp/(tp+fp)\n",
    "f1 = (2*tp) / (2*tp + fp + fn)"
   ]
  },
  {
   "cell_type": "code",
   "execution_count": 29,
   "metadata": {},
   "outputs": [
    {
     "name": "stdout",
     "output_type": "stream",
     "text": [
      "recall: 0.5517737296260786\n",
      "precission: 0.5480952380952381\n",
      "f1 score: 0.5499283325370282\n"
     ]
    }
   ],
   "source": [
    "print(\"recall: {}\\nprecission: {}\\nf1 score: {}\".format(recall, precision, f1))"
   ]
  },
  {
   "cell_type": "code",
   "execution_count": 30,
   "metadata": {},
   "outputs": [],
   "source": [
    "tp, tn, fp, fn = 1530, 1151+159+273+38, 389+790, 107+662"
   ]
  },
  {
   "cell_type": "code",
   "execution_count": 31,
   "metadata": {},
   "outputs": [],
   "source": [
    "recall = tp / (tp+fn)\n",
    "specifity = tn / (tn+fp)\n",
    "precision = tp/(tp+fp)\n",
    "f1 = (2*tp) / (2*tp + fp + fn)"
   ]
  },
  {
   "cell_type": "code",
   "execution_count": 32,
   "metadata": {},
   "outputs": [
    {
     "name": "stdout",
     "output_type": "stream",
     "text": [
      "recall: 0.665506742061766\n",
      "precission: 0.5647840531561462\n",
      "f1 score: 0.6110223642172524\n"
     ]
    }
   ],
   "source": [
    "print(\"recall: {}\\nprecission: {}\\nf1 score: {}\".format(recall, precision, f1))"
   ]
  }
 ],
 "metadata": {
  "kernelspec": {
   "display_name": "base",
   "language": "python",
   "name": "python3"
  },
  "language_info": {
   "codemirror_mode": {
    "name": "ipython",
    "version": 3
   },
   "file_extension": ".py",
   "mimetype": "text/x-python",
   "name": "python",
   "nbconvert_exporter": "python",
   "pygments_lexer": "ipython3",
   "version": "3.8.8"
  }
 },
 "nbformat": 4,
 "nbformat_minor": 2
}
